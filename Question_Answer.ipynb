{
 "cells": [
  {
   "cell_type": "code",
   "execution_count": 1,
   "metadata": {},
   "outputs": [],
   "source": [
    "import spacy\n",
    "import nltk\n",
    "import random\n",
    "import operator\n",
    "from nltk.corpus import stopwords \n",
    "from nltk.tokenize import word_tokenize \n",
    "\n",
    "with open('Questions.txt') as f:\n",
    "    content = f.readlines()\n",
    "# you may also want to remove whitespace characters like `\\n` at the end of each line\n",
    "questions = [x.strip() for x in content] \n",
    "\n",
    "with open('Answers.txt') as f:\n",
    "    content = f.readlines()\n",
    "# you may also want to remove whitespace characters like `\\n` at the end of each line\n",
    "answers = [x.strip() for x in content if x != ''] \n"
   ]
  },
  {
   "cell_type": "code",
   "execution_count": 2,
   "metadata": {},
   "outputs": [
    {
     "data": {
      "text/plain": [
       "['What day is today?',\n",
       " 'What is the site to wikipedia?',\n",
       " 'How much does an apple watch cost?',\n",
       " 'How do I request a cancellation for my Netflix account?',\n",
       " 'What is the current Iphone in the market?',\n",
       " 'Who is the current CEO of Apple?',\n",
       " \"Where is Apple's HQ located?\",\n",
       " 'How much is the compnany work?',\n",
       " 'Which Macbook is better air or pro?',\n",
       " 'What is Thanksgiving?',\n",
       " 'Can we install Siri in iphone 4, mine is not IP4S?']"
      ]
     },
     "execution_count": 2,
     "metadata": {},
     "output_type": "execute_result"
    }
   ],
   "source": [
    "questions"
   ]
  },
  {
   "cell_type": "code",
   "execution_count": 3,
   "metadata": {},
   "outputs": [
    {
     "data": {
      "text/plain": [
       "['Tim Cook',\n",
       " 'MacBook Pro',\n",
       " 'Thanksgiving is a huge festival',\n",
       " 'wikipedia.org',\n",
       " 'Just call Netflix customer care directly?',\n",
       " 'wednesday?',\n",
       " 'Cupertino',\n",
       " '960 Billion Dollars',\n",
       " '500',\n",
       " 'Iphone XS',\n",
       " 'You may buy it for the A5 Dual core processor which is reportedly twice as fast as processing speeds as the iPhone 4 is, the 7MPX camera and the improved, louder speakers as well as an option to have a 64GB storage capacity.']"
      ]
     },
     "execution_count": 3,
     "metadata": {},
     "output_type": "execute_result"
    }
   ],
   "source": [
    "answers"
   ]
  },
  {
   "cell_type": "code",
   "execution_count": 4,
   "metadata": {},
   "outputs": [],
   "source": [
    "ct = 1\n",
    "answer_store = {}\n",
    "for i in answers:\n",
    "    answer_store[ct] = i\n",
    "    #{1:'Tim Cook, 2: Cupertino, 3:dsui}\n",
    "    ct +=1"
   ]
  },
  {
   "cell_type": "code",
   "execution_count": 5,
   "metadata": {},
   "outputs": [
    {
     "name": "stdout",
     "output_type": "stream",
     "text": [
      "The question being asked is 'How do I request a cancellation for my Netflix account?'\n"
     ]
    }
   ],
   "source": [
    "randques = random.choice(questions)\n",
    "print(\"The question being asked is %r\" %(randques))"
   ]
  },
  {
   "cell_type": "code",
   "execution_count": 6,
   "metadata": {},
   "outputs": [],
   "source": [
    "cumilative_list = []\n",
    "quantity = ['How much']\n",
    "time = ['When']\n",
    "place = ['Where is']\n",
    "task = ['How to','How do', 'How can']\n",
    "definition = ['What']\n",
    "person = ['Who']\n",
    "cumilative_list.extend(quantity+time+place+task+definition+person)"
   ]
  },
  {
   "cell_type": "code",
   "execution_count": 7,
   "metadata": {},
   "outputs": [],
   "source": [
    "nlp = spacy.load(\"en_core_web_sm\")\n",
    "doc = nlp(randques)"
   ]
  },
  {
   "cell_type": "code",
   "execution_count": null,
   "metadata": {},
   "outputs": [],
   "source": []
  },
  {
   "cell_type": "code",
   "execution_count": 9,
   "metadata": {},
   "outputs": [],
   "source": [
    "def helper(answers,types,found):\n",
    "    print(\"Entered loop\")\n",
    "    for i in answers:\n",
    "            if found == 'yes':\n",
    "                break\n",
    "            doc = nlp(i)\n",
    "            for ent in doc.ents:\n",
    "                if ent.label_ == types:\n",
    "                    print(\"Answer Found\",i, \" and the label is \", types)\n",
    "                    found = 'yes'\n",
    "                    break\n",
    "    if found == 'no':\n",
    "        return 'no'\n",
    "    else:\n",
    "        return 'yes'"
   ]
  },
  {
   "cell_type": "code",
   "execution_count": 10,
   "metadata": {},
   "outputs": [],
   "source": [
    "prev = \"\"\n",
    "found = 'no'\n",
    "lt = randques.split()\n",
    "for token in lt:\n",
    "    #print(doc)\n",
    "    #print(token)\n",
    "    if found == 'yes':\n",
    "        #print(\"Entered\")\n",
    "        break\n",
    "    bigram =  str(prev + ' ' + token)\n",
    "   # print(bigram.strip())\n",
    "    if token.strip() in person or bigram.strip() in person :\n",
    "        found = helper(answers,'PERSON',found)\n",
    "        print(\"The value of found is \", found)\n",
    "    elif token.strip() in time or bigram.strip() in time:\n",
    "        found = helper(answers,'DATE',found)\n",
    "    elif token.strip() in definition or bigram.strip() in definition:\n",
    "        found = helper(answers,'PRODUCT',found)\n",
    "    elif token.strip() in place or bigram.strip() in place:\n",
    "        found = helper(answers,'GPE',found)\n",
    "   # print(\"Quantity is \", quantity[0])\n",
    "   # print('Bigram is ', bigram)\n",
    "    elif token.strip() in quantity or bigram.strip() in quantity :\n",
    "        print(\"Got in buddy\")\n",
    "        found = helper(answers,'MONEY',found)\n",
    "    \n",
    "    prev = token\n",
    "    if found == 'yes':\n",
    "        break\n",
    "    #if token in task:\n",
    "     #   helper(answers)"
   ]
  },
  {
   "cell_type": "markdown",
   "metadata": {},
   "source": [
    "### Approach using dictionaries and counters to match the question words with answers and return them"
   ]
  },
  {
   "cell_type": "code",
   "execution_count": 11,
   "metadata": {},
   "outputs": [
    {
     "name": "stdout",
     "output_type": "stream",
     "text": [
      "Answer Not found using spacy approach\n",
      "Would you like to try the dictionary approach? yes\n",
      "['current', 'iphone', 'market', '?']\n",
      "'Answer Found is' \n",
      " Iphone XS\n"
     ]
    }
   ],
   "source": [
    "if found == 'no':\n",
    "        print(\"Answer Not found using spacy approach\")\n",
    "        x = input(\"Would you like to try the dictionary approach? \")\n",
    "        if x.lower() == 'yes':\n",
    "            stop_words = set(stopwords.words('english')) \n",
    "            newques = 'What is the current iphone in the market?'\n",
    "            word_tokens = word_tokenize(newques) \n",
    "  \n",
    "            filtered_sentence = [w.strip().lower() for w in word_tokens if w not in stop_words and w not in cumilative_list] \n",
    "            print(filtered_sentence) \n",
    "            found = 'no'\n",
    "            dicti = {}\n",
    "            ct = 1\n",
    "            for x in answers:\n",
    "                dicti[ct] = 0\n",
    "                sent = x.split()\n",
    "                for i in sent:\n",
    "                    if i.strip().lower() in filtered_sentence:\n",
    "                        dicti[ct] += 1\n",
    "                ct = ct+1\n",
    "\n",
    "#print(dicti[newques])\n",
    "            answer_key = max(dicti.items(), key=operator.itemgetter(1))[0]\n",
    "            print(\"'Answer Found is' \\n\", answer_store[answer_key])\n",
    "        else:\n",
    "            print(\"Sorry we were unable to help ?\")\n",
    "    "
   ]
  },
  {
   "cell_type": "code",
   "execution_count": 51,
   "metadata": {},
   "outputs": [
    {
     "name": "stdout",
     "output_type": "stream",
     "text": [
      "2\n"
     ]
    }
   ],
   "source": [
    "print(dicti[11])"
   ]
  },
  {
   "cell_type": "code",
   "execution_count": null,
   "metadata": {},
   "outputs": [],
   "source": []
  }
 ],
 "metadata": {
  "kernelspec": {
   "display_name": "Python 3",
   "language": "python",
   "name": "python3"
  },
  "language_info": {
   "codemirror_mode": {
    "name": "ipython",
    "version": 3
   },
   "file_extension": ".py",
   "mimetype": "text/x-python",
   "name": "python",
   "nbconvert_exporter": "python",
   "pygments_lexer": "ipython3",
   "version": "3.6.4"
  }
 },
 "nbformat": 4,
 "nbformat_minor": 2
}
